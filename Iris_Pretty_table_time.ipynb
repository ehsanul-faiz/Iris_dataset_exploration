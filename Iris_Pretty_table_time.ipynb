{
 "cells": [
  {
   "cell_type": "markdown",
   "id": "cb396c95",
   "metadata": {},
   "source": [
    "# Defining the nature and scope of the project"
   ]
  },
  {
   "cell_type": "markdown",
   "id": "a8d5928e",
   "metadata": {},
   "source": [
    "Iris Dataset is considered as the Hello World for data science. It contains five columns namely – Petal Length, Petal Width, Sepal Length, Sepal Width, and Species Type. Iris is a flowering plant, the researchers have measured various features of the different iris flowers and recorded them digitally. As this is a built-in public dataset we will import from sklearn and work on it. The data is pre-processed and have no missing value with the \"Species\" column replaced and label encoded with \"target\" column. We will explore how data visualization clearly differentiates the three flowers with the given features. Then we will apply different classifier models and try to find out the best model with best parameter. Finally training and evaluating using the best one. "
   ]
  },
  {
   "cell_type": "markdown",
   "id": "03c108f6",
   "metadata": {},
   "source": [
    "## Importing Necessary Libraries"
   ]
  },
  {
   "cell_type": "code",
   "execution_count": 1,
   "id": "fcb8ff25",
   "metadata": {},
   "outputs": [],
   "source": [
    "from time import time\n",
    "from datetime import datetime\n",
    "start=datetime.now()\n",
    "\n",
    "from sklearn.datasets import load_iris\n",
    "import pandas as pd\n",
    "\n",
    "import seaborn as sns\n",
    "import matplotlib.pyplot as plt\n",
    "\n",
    "from sklearn import preprocessing\n",
    "\n",
    "from sklearn.model_selection import train_test_split\n",
    "from sklearn.preprocessing import StandardScaler\n",
    "\n",
    "from sklearn.neighbors import KNeighborsClassifier\n",
    "from sklearn.naive_bayes import GaussianNB\n",
    "from sklearn.linear_model import LogisticRegression\n",
    "from sklearn.ensemble import RandomForestClassifier\n",
    "from sklearn.tree import DecisionTreeClassifier\n",
    "from sklearn.ensemble import GradientBoostingClassifier\n",
    "\n",
    "from prettytable import PrettyTable\n",
    "from sklearn.metrics import accuracy_score, f1_score, classification_report, confusion_matrix\n",
    "from sklearn.model_selection import GridSearchCV\n",
    "\n",
    "import warnings\n",
    "warnings.filterwarnings(\"ignore\")"
   ]
  },
  {
   "cell_type": "markdown",
   "id": "d6e02905",
   "metadata": {},
   "source": [
    "## Loading and exploring data"
   ]
  },
  {
   "cell_type": "code",
   "execution_count": 2,
   "id": "f8332a35",
   "metadata": {},
   "outputs": [],
   "source": [
    "iris=load_iris()\n",
    "df = pd.DataFrame(data=iris.data, columns=iris.feature_names)\n",
    "df['target'] = iris.target"
   ]
  },
  {
   "cell_type": "code",
   "execution_count": 3,
   "id": "73f7d488",
   "metadata": {},
   "outputs": [
    {
     "data": {
      "text/plain": [
       "array(['setosa', 'versicolor', 'virginica'], dtype='<U10')"
      ]
     },
     "execution_count": 3,
     "metadata": {},
     "output_type": "execute_result"
    }
   ],
   "source": [
    "iris.target_names"
   ]
  },
  {
   "cell_type": "code",
   "execution_count": 4,
   "id": "5892249c",
   "metadata": {},
   "outputs": [
    {
     "data": {
      "text/html": [
       "<div>\n",
       "<style scoped>\n",
       "    .dataframe tbody tr th:only-of-type {\n",
       "        vertical-align: middle;\n",
       "    }\n",
       "\n",
       "    .dataframe tbody tr th {\n",
       "        vertical-align: top;\n",
       "    }\n",
       "\n",
       "    .dataframe thead th {\n",
       "        text-align: right;\n",
       "    }\n",
       "</style>\n",
       "<table border=\"1\" class=\"dataframe\">\n",
       "  <thead>\n",
       "    <tr style=\"text-align: right;\">\n",
       "      <th></th>\n",
       "      <th>sepal length (cm)</th>\n",
       "      <th>sepal width (cm)</th>\n",
       "      <th>petal length (cm)</th>\n",
       "      <th>petal width (cm)</th>\n",
       "      <th>target</th>\n",
       "    </tr>\n",
       "  </thead>\n",
       "  <tbody>\n",
       "    <tr>\n",
       "      <th>0</th>\n",
       "      <td>5.1</td>\n",
       "      <td>3.5</td>\n",
       "      <td>1.4</td>\n",
       "      <td>0.2</td>\n",
       "      <td>0</td>\n",
       "    </tr>\n",
       "    <tr>\n",
       "      <th>1</th>\n",
       "      <td>4.9</td>\n",
       "      <td>3.0</td>\n",
       "      <td>1.4</td>\n",
       "      <td>0.2</td>\n",
       "      <td>0</td>\n",
       "    </tr>\n",
       "    <tr>\n",
       "      <th>2</th>\n",
       "      <td>4.7</td>\n",
       "      <td>3.2</td>\n",
       "      <td>1.3</td>\n",
       "      <td>0.2</td>\n",
       "      <td>0</td>\n",
       "    </tr>\n",
       "    <tr>\n",
       "      <th>3</th>\n",
       "      <td>4.6</td>\n",
       "      <td>3.1</td>\n",
       "      <td>1.5</td>\n",
       "      <td>0.2</td>\n",
       "      <td>0</td>\n",
       "    </tr>\n",
       "    <tr>\n",
       "      <th>4</th>\n",
       "      <td>5.0</td>\n",
       "      <td>3.6</td>\n",
       "      <td>1.4</td>\n",
       "      <td>0.2</td>\n",
       "      <td>0</td>\n",
       "    </tr>\n",
       "    <tr>\n",
       "      <th>...</th>\n",
       "      <td>...</td>\n",
       "      <td>...</td>\n",
       "      <td>...</td>\n",
       "      <td>...</td>\n",
       "      <td>...</td>\n",
       "    </tr>\n",
       "    <tr>\n",
       "      <th>145</th>\n",
       "      <td>6.7</td>\n",
       "      <td>3.0</td>\n",
       "      <td>5.2</td>\n",
       "      <td>2.3</td>\n",
       "      <td>2</td>\n",
       "    </tr>\n",
       "    <tr>\n",
       "      <th>146</th>\n",
       "      <td>6.3</td>\n",
       "      <td>2.5</td>\n",
       "      <td>5.0</td>\n",
       "      <td>1.9</td>\n",
       "      <td>2</td>\n",
       "    </tr>\n",
       "    <tr>\n",
       "      <th>147</th>\n",
       "      <td>6.5</td>\n",
       "      <td>3.0</td>\n",
       "      <td>5.2</td>\n",
       "      <td>2.0</td>\n",
       "      <td>2</td>\n",
       "    </tr>\n",
       "    <tr>\n",
       "      <th>148</th>\n",
       "      <td>6.2</td>\n",
       "      <td>3.4</td>\n",
       "      <td>5.4</td>\n",
       "      <td>2.3</td>\n",
       "      <td>2</td>\n",
       "    </tr>\n",
       "    <tr>\n",
       "      <th>149</th>\n",
       "      <td>5.9</td>\n",
       "      <td>3.0</td>\n",
       "      <td>5.1</td>\n",
       "      <td>1.8</td>\n",
       "      <td>2</td>\n",
       "    </tr>\n",
       "  </tbody>\n",
       "</table>\n",
       "<p>150 rows × 5 columns</p>\n",
       "</div>"
      ],
      "text/plain": [
       "     sepal length (cm)  sepal width (cm)  petal length (cm)  petal width (cm)  \\\n",
       "0                  5.1               3.5                1.4               0.2   \n",
       "1                  4.9               3.0                1.4               0.2   \n",
       "2                  4.7               3.2                1.3               0.2   \n",
       "3                  4.6               3.1                1.5               0.2   \n",
       "4                  5.0               3.6                1.4               0.2   \n",
       "..                 ...               ...                ...               ...   \n",
       "145                6.7               3.0                5.2               2.3   \n",
       "146                6.3               2.5                5.0               1.9   \n",
       "147                6.5               3.0                5.2               2.0   \n",
       "148                6.2               3.4                5.4               2.3   \n",
       "149                5.9               3.0                5.1               1.8   \n",
       "\n",
       "     target  \n",
       "0         0  \n",
       "1         0  \n",
       "2         0  \n",
       "3         0  \n",
       "4         0  \n",
       "..      ...  \n",
       "145       2  \n",
       "146       2  \n",
       "147       2  \n",
       "148       2  \n",
       "149       2  \n",
       "\n",
       "[150 rows x 5 columns]"
      ]
     },
     "execution_count": 4,
     "metadata": {},
     "output_type": "execute_result"
    }
   ],
   "source": [
    "df"
   ]
  },
  {
   "cell_type": "code",
   "execution_count": 5,
   "id": "f83b30fe",
   "metadata": {},
   "outputs": [
    {
     "data": {
      "text/html": [
       "<div>\n",
       "<style scoped>\n",
       "    .dataframe tbody tr th:only-of-type {\n",
       "        vertical-align: middle;\n",
       "    }\n",
       "\n",
       "    .dataframe tbody tr th {\n",
       "        vertical-align: top;\n",
       "    }\n",
       "\n",
       "    .dataframe thead th {\n",
       "        text-align: right;\n",
       "    }\n",
       "</style>\n",
       "<table border=\"1\" class=\"dataframe\">\n",
       "  <thead>\n",
       "    <tr style=\"text-align: right;\">\n",
       "      <th></th>\n",
       "      <th>sepal length (cm)</th>\n",
       "      <th>sepal width (cm)</th>\n",
       "      <th>petal length (cm)</th>\n",
       "      <th>petal width (cm)</th>\n",
       "      <th>target</th>\n",
       "    </tr>\n",
       "  </thead>\n",
       "  <tbody>\n",
       "    <tr>\n",
       "      <th>0</th>\n",
       "      <td>5.1</td>\n",
       "      <td>3.5</td>\n",
       "      <td>1.4</td>\n",
       "      <td>0.2</td>\n",
       "      <td>0</td>\n",
       "    </tr>\n",
       "    <tr>\n",
       "      <th>50</th>\n",
       "      <td>7.0</td>\n",
       "      <td>3.2</td>\n",
       "      <td>4.7</td>\n",
       "      <td>1.4</td>\n",
       "      <td>1</td>\n",
       "    </tr>\n",
       "    <tr>\n",
       "      <th>100</th>\n",
       "      <td>6.3</td>\n",
       "      <td>3.3</td>\n",
       "      <td>6.0</td>\n",
       "      <td>2.5</td>\n",
       "      <td>2</td>\n",
       "    </tr>\n",
       "  </tbody>\n",
       "</table>\n",
       "</div>"
      ],
      "text/plain": [
       "     sepal length (cm)  sepal width (cm)  petal length (cm)  petal width (cm)  \\\n",
       "0                  5.1               3.5                1.4               0.2   \n",
       "50                 7.0               3.2                4.7               1.4   \n",
       "100                6.3               3.3                6.0               2.5   \n",
       "\n",
       "     target  \n",
       "0         0  \n",
       "50        1  \n",
       "100       2  "
      ]
     },
     "execution_count": 5,
     "metadata": {},
     "output_type": "execute_result"
    }
   ],
   "source": [
    "data = df.drop_duplicates(subset =\"target\",)\n",
    "data"
   ]
  },
  {
   "cell_type": "code",
   "execution_count": 6,
   "id": "4f8382cc",
   "metadata": {},
   "outputs": [
    {
     "data": {
      "text/plain": [
       "target\n",
       "0    50\n",
       "1    50\n",
       "2    50\n",
       "dtype: int64"
      ]
     },
     "execution_count": 6,
     "metadata": {},
     "output_type": "execute_result"
    }
   ],
   "source": [
    "df.value_counts(\"target\")"
   ]
  },
  {
   "cell_type": "markdown",
   "id": "d8ee6aff",
   "metadata": {},
   "source": [
    "## Data Visualization"
   ]
  },
  {
   "cell_type": "code",
   "execution_count": 7,
   "id": "ec2ad968",
   "metadata": {},
   "outputs": [
    {
     "data": {
      "image/png": "[encoded data removed]",
      "text/plain": [
       "<Figure size 640x480 with 1 Axes>"
      ]
     },
     "metadata": {},
     "output_type": "display_data"
    }
   ],
   "source": [
    "sns.countplot(x='target', data=df, )\n",
    "plt.show()"
   ]
  },
  {
   "cell_type": "code",
   "execution_count": 8,
   "id": "c49a104f",
   "metadata": {},
   "outputs": [
    {
     "data": {
      "image/png": "[encoded data removed]",
      "text/plain": [
       "<Figure size 640x480 with 1 Axes>"
      ]
     },
     "metadata": {},
     "output_type": "display_data"
    }
   ],
   "source": [
    "sns.scatterplot(x='sepal length (cm)', y='sepal width (cm)',\n",
    "                hue='target', data=df, )\n",
    " \n",
    "# Placing Legend outside the Figure\n",
    "plt.legend(bbox_to_anchor=(1, 1), loc=2)\n",
    " \n",
    "plt.show()"
   ]
  },
  {
   "cell_type": "markdown",
   "id": "bb574672",
   "metadata": {},
   "source": [
    "** Observations **\n",
    "\n",
    "1) Species Setosa has smaller sepal lengths but larger sepal widths.\n",
    "\n",
    "2) Versicolor Species lies in the middle of the other two species in terms of sepal length and width\n",
    "\n",
    "3) Species Virginica has larger sepal lengths but smaller sepal widths."
   ]
  },
  {
   "cell_type": "code",
   "execution_count": 9,
   "id": "d50e5ad1",
   "metadata": {},
   "outputs": [
    {
     "data": {
      "image/png": "[encoded data removed]",
      "text/plain": [
       "<Figure size 640x480 with 1 Axes>"
      ]
     },
     "metadata": {},
     "output_type": "display_data"
    }
   ],
   "source": [
    "sns.scatterplot(x='petal length (cm)', y='petal width (cm)',\n",
    "                hue='target', data=df, )\n",
    " \n",
    "# Placing Legend outside the Figure\n",
    "plt.legend(bbox_to_anchor=(1, 1), loc=2)\n",
    " \n",
    "plt.show()"
   ]
  },
  {
   "cell_type": "markdown",
   "id": "8e4e869b",
   "metadata": {},
   "source": [
    "** Observations **\n",
    "\n",
    "1) Species Setosa has smaller petal lengths and widths.\n",
    "\n",
    "2) Versicolor Species lies in the middle of the other two species in terms of petal length and width.\n",
    "\n",
    "3) Species Virginica has the largest of petal lengths and widths."
   ]
  },
  {
   "cell_type": "markdown",
   "id": "7f74a9c2",
   "metadata": {},
   "source": [
    "## Cleaning and Preprocessing data"
   ]
  },
  {
   "cell_type": "code",
   "execution_count": 10,
   "id": "945a14fb",
   "metadata": {},
   "outputs": [
    {
     "data": {
      "text/plain": [
       "sepal length (cm)    0\n",
       "sepal width (cm)     0\n",
       "petal length (cm)    0\n",
       "petal width (cm)     0\n",
       "target               0\n",
       "dtype: int64"
      ]
     },
     "execution_count": 10,
     "metadata": {},
     "output_type": "execute_result"
    }
   ],
   "source": [
    "df.isnull().sum()"
   ]
  },
  {
   "cell_type": "markdown",
   "id": "b787e7e8",
   "metadata": {},
   "source": [
    "**Findings**\n",
    "1) We can see the dataset has no missing value.\n",
    "\n",
    "2) The built-in data set is already cleaned and preprocessed"
   ]
  },
  {
   "cell_type": "markdown",
   "id": "185b1f02",
   "metadata": {},
   "source": [
    "## Splitting the Data"
   ]
  },
  {
   "cell_type": "code",
   "execution_count": 11,
   "id": "7128924d",
   "metadata": {},
   "outputs": [],
   "source": [
    "X=iris.data\n",
    "y=iris.target\n",
    "X_train, X_test, y_train, y_test = train_test_split(X, y,test_size=0.3,random_state=0)"
   ]
  },
  {
   "cell_type": "code",
   "execution_count": 12,
   "id": "9bf6187b",
   "metadata": {},
   "outputs": [
    {
     "data": {
      "text/plain": [
       "((105, 4), (45, 4), (105,), (45,))"
      ]
     },
     "execution_count": 12,
     "metadata": {},
     "output_type": "execute_result"
    }
   ],
   "source": [
    "X_train.shape, X_test.shape, y_train.shape, y_test.shape"
   ]
  },
  {
   "cell_type": "markdown",
   "id": "07b1e298",
   "metadata": {},
   "source": [
    "## Scaling the Data"
   ]
  },
  {
   "cell_type": "code",
   "execution_count": 13,
   "id": "bea97e4c",
   "metadata": {},
   "outputs": [],
   "source": [
    "scaler = StandardScaler()\n",
    "X_train=scaler.fit_transform(X_train)\n",
    "X_test=scaler.transform(X_test)"
   ]
  },
  {
   "cell_type": "markdown",
   "id": "2d7aea17",
   "metadata": {},
   "source": [
    "## Function to compare different models"
   ]
  },
  {
   "cell_type": "code",
   "execution_count": 14,
   "id": "11fb7748",
   "metadata": {},
   "outputs": [
    {
     "name": "stdout",
     "output_type": "stream",
     "text": [
      "Best Paramenters for KNeighborsClassifier is {'n_neighbors': 10}\n",
      "KNeighborsClassifier: accuracy_train=0.9524 accuracy_test=0.9778 f1_train=0.9524, f1_test = 0.9778\n",
      "Total execution time for KNeighborsClassifier is : 3.5644114017486572'.\n",
      "Which translates to: 0 minutes and 3.564 seconds.\n",
      "\n",
      "Best Paramenters for GaussianNB is {'var_smoothing': 1e-05}\n",
      "GaussianNB: accuracy_train=0.9429 accuracy_test=1.0000 f1_train=0.9429, f1_test = 1.0000\n",
      "Total execution time for GaussianNB is : 0.05300402641296387'.\n",
      "Which translates to: 0 minutes and 0.053 seconds.\n",
      "\n",
      "Best Paramenters for LogisticRegression is {'C': 1}\n",
      "LogisticRegression: accuracy_train=0.9714 accuracy_test=0.9778 f1_train=0.9714, f1_test = 0.9778\n",
      "Total execution time for LogisticRegression is : 0.12402963638305664'.\n",
      "Which translates to: 0 minutes and 0.124 seconds.\n",
      "\n",
      "Best Paramenters for RandomForestClassifier is {'max_depth': 80, 'max_features': 2, 'n_estimators': 100}\n",
      "RandomForestClassifier: accuracy_train=1.0000 accuracy_test=0.9778 f1_train=1.0000, f1_test = 0.9778\n",
      "Total execution time for RandomForestClassifier is : 2.5274364948272705'.\n",
      "Which translates to: 0 minutes and 2.527 seconds.\n",
      "\n",
      "Best Paramenters for DecisionTreeClassifier is {'max_depth': 85}\n",
      "DecisionTreeClassifier: accuracy_train=1.0000 accuracy_test=0.9778 f1_train=1.0000, f1_test = 0.9778\n",
      "Total execution time for DecisionTreeClassifier is : 0.054003000259399414'.\n",
      "Which translates to: 0 minutes and 0.054 seconds.\n",
      "\n",
      "Best Paramenters for GradientBoostingClassifier is {'learning_rate': 0.1, 'n_estimators': 100}\n",
      "GradientBoostingClassifier: accuracy_train=1.0000 accuracy_test=0.9778 f1_train=1.0000, f1_test = 0.9778\n",
      "Total execution time for GradientBoostingClassifier is : 2.1483590602874756'.\n",
      "Which translates to: 0 minutes and 2.148 seconds.\n",
      "\n",
      "Wall time: 8.47 s\n"
     ]
    }
   ],
   "source": [
    "%%time\n",
    "# List of models to try\n",
    "models = [KNeighborsClassifier(),\n",
    "          GaussianNB(),\n",
    "          LogisticRegression(),\n",
    "          RandomForestClassifier(),\n",
    "          DecisionTreeClassifier(),\n",
    "          GradientBoostingClassifier(),\n",
    "         ]\n",
    "\n",
    "# Hyperparameters to try\n",
    "param_grid = {'KNeighborsClassifier': {'n_neighbors': [10,12,14,16,18,20,22,24,26,28,30]},\n",
    "              'GaussianNB': {'var_smoothing': [.00001,.0001,.001,0.01,0.1,1,10]},\n",
    "              'LogisticRegression':{'C': [.00001,.0001,.001,0.01,0.1,1,10]},\n",
    "              'RandomForestClassifier': {'n_estimators': [100, 200], 'max_depth': [80,90],'max_features': [2, 3]},\n",
    "              'DecisionTreeClassifier': {'max_depth': [3, 5, 70,85]},\n",
    "              'GradientBoostingClassifier': {'n_estimators': [100, 200], 'learning_rate': [0.1, 0.5, 1]}\n",
    "             }\n",
    "\n",
    "\n",
    "# Dataframe to store results\n",
    "metrics = {'Model': [], 'ATR': [], 'ATS': [], 'F1_TR': [], 'F1_TS': [], 'TIME': [], 'B_P': []}\n",
    "\n",
    "# Looping through models\n",
    "for i, model in enumerate(models):\n",
    "    mst = time()\n",
    "    \n",
    "    # Get model name\n",
    "    model_name = str(model).replace(\"()\",\"\")\n",
    "    \n",
    "    # Perform grid search with cross-validation\n",
    "    gs = GridSearchCV(estimator=model, param_grid=param_grid[model_name], cv=5, n_jobs =-1)\n",
    "    gs.fit(X_train, y_train)\n",
    "    \n",
    "    # Get best parameters\n",
    "    best_params = gs.best_params_\n",
    "    print(f\"Best Paramenters for {model_name} is {best_params}\")\n",
    "    \n",
    "\n",
    "    # Fit model with best parameters\n",
    "    model.set_params(**best_params)\n",
    "    model.fit(X_train, y_train)\n",
    "    \n",
    "    # Append in a list for future use\n",
    "    # basic_models.append(model)\n",
    "    \n",
    "    # Make predictions\n",
    "    y_pred_train = model.predict(X_train)\n",
    "    y_pred_test = model.predict(X_test)\n",
    "\n",
    "    # Calculate metrics\n",
    "    accuracy_train = accuracy_score(y_pred_train,y_train)\n",
    "    accuracy_test = accuracy_score(y_pred_test,y_test)\n",
    "    f1_train = f1_score(y_pred_train,y_train,average='micro' )\n",
    "    f1_test = f1_score(y_pred_test,y_test,average='micro')\n",
    "    \n",
    "    # Calculate run time for model\n",
    "    met = time()\n",
    "    mrt = met-mst\n",
    "    minute=int(mrt/60)\n",
    "    second=mrt%60\n",
    "    \n",
    "    # Append to DataFrame\n",
    "    metrics['Model'].append(model_name)    \n",
    "    metrics['ATR'].append(f\"{accuracy_train:.3f}\")\n",
    "    metrics['ATS'].append(f\"{accuracy_test:.3f}\")\n",
    "    metrics['F1_TR'].append(f\"{f1_train:.3f}\")\n",
    "    metrics['F1_TS'].append(f\"{f1_test:.3f}\")\n",
    "    metrics['TIME'].append(f\"{mrt:.3f}\")\n",
    "    metrics['B_P'].append(best_params)\n",
    "    \n",
    "    metrics_df = pd.DataFrame(metrics)\n",
    "    \n",
    "\n",
    "    print(f\"{model.__class__.__name__}: accuracy_train={accuracy_train:.4f} accuracy_test={accuracy_test:.4f} f1_train={f1_train:.4f}, f1_test = {f1_test:.4f}\")\n",
    "    met = time()\n",
    "    mrt = met-mst\n",
    "    minute=int(mrt/60)\n",
    "    second=mrt%60\n",
    "    if minute>=60:\n",
    "        hour=int(minute/60)\n",
    "        minute=minute%60\n",
    "        print(f\"Total execution time for {model.__class__.__name__} is : {mrt}'.\")\n",
    "        print(f\"Which translates to: {hour} hours {minute} minutes and {second:.3f} seconds.\")\n",
    "    else:\n",
    "        print(f\"Total execution time for {model.__class__.__name__} is : {mrt}'.\")\n",
    "        print(f\"Which translates to: {minute} minutes and {second:.3f} seconds.\")\n",
    "    print()\n"
   ]
  },
  {
   "cell_type": "markdown",
   "id": "980bcbef",
   "metadata": {},
   "source": [
    "## [10] Representing the findings in a table and sorting out the best model with parameters"
   ]
  },
  {
   "cell_type": "code",
   "execution_count": 15,
   "id": "6781f232",
   "metadata": {},
   "outputs": [
    {
     "name": "stdout",
     "output_type": "stream",
     "text": [
      "+----------------------------+------------+-----------+----------+---------+-------+-----------------------------------------------------------+\n",
      "|         Model Name         | Accu_train | Accu_test | F1_train | F1_test |  Time |                      Best parameters                      |\n",
      "+----------------------------+------------+-----------+----------+---------+-------+-----------------------------------------------------------+\n",
      "|    KNeighborsClassifier    |   0.952    |   0.978   |  0.952   |  0.978  | 3.563 |                    {'n_neighbors': 10}                    |\n",
      "|         GaussianNB         |   0.943    |   1.000   |  0.943   |  1.000  | 0.052 |                  {'var_smoothing': 1e-05}                 |\n",
      "|     LogisticRegression     |   0.971    |   0.978   |  0.971   |  0.978  | 0.124 |                          {'C': 1}                         |\n",
      "|   RandomForestClassifier   |   1.000    |   0.978   |  1.000   |  0.978  | 2.527 | {'max_depth': 80, 'max_features': 2, 'n_estimators': 100} |\n",
      "|   DecisionTreeClassifier   |   1.000    |   0.978   |  1.000   |  0.978  | 0.053 |                     {'max_depth': 85}                     |\n",
      "| GradientBoostingClassifier |   1.000    |   0.978   |  1.000   |  0.978  | 2.147 |        {'learning_rate': 0.1, 'n_estimators': 100}        |\n",
      "+----------------------------+------------+-----------+----------+---------+-------+-----------------------------------------------------------+\n"
     ]
    }
   ],
   "source": [
    "# Create a PrettyTable object\n",
    "table = PrettyTable()\n",
    "\n",
    "# Add columns to the table\n",
    "table.add_column(\"Model Name\", metrics['Model'])\n",
    "table.add_column(\"Accu_train\",metrics['ATR'])\n",
    "table.add_column(\"Accu_test\",metrics['ATS'])\n",
    "table.add_column(\"F1_train\",metrics['F1_TR'])\n",
    "table.add_column(\"F1_test\",metrics['F1_TS'])\n",
    "table.add_column(\"Time\",metrics['TIME'])\n",
    "table.add_column(\"Best parameters\",metrics['B_P'])\n",
    "\n",
    "# Set the alignment of the columns\n",
    "# table.align[\"Model\"] = \"l\"\n",
    "# table.align[\"MAE\"] = \"r\"\n",
    "# table.align[\"MSE\"] = \"r\"\n",
    "# table.align[\"R2\"] = \"r\"\n",
    "# table.align[\"Adjusted R2\"] = \"r\"\n",
    "\n",
    "print(table)"
   ]
  },
  {
   "cell_type": "code",
   "execution_count": 16,
   "id": "8e9932bf",
   "metadata": {},
   "outputs": [
    {
     "name": "stdout",
     "output_type": "stream",
     "text": [
      "                              ATR    ATS  F1_TR  F1_TS   TIME  \\\n",
      "Model                                                           \n",
      "RandomForestClassifier      1.000  0.978  1.000  0.978  2.527   \n",
      "DecisionTreeClassifier      1.000  0.978  1.000  0.978  0.053   \n",
      "GradientBoostingClassifier  1.000  0.978  1.000  0.978  2.147   \n",
      "LogisticRegression          0.971  0.978  0.971  0.978  0.124   \n",
      "KNeighborsClassifier        0.952  0.978  0.952  0.978  3.563   \n",
      "GaussianNB                  0.943  1.000  0.943  1.000  0.052   \n",
      "\n",
      "                                                                          B_P  \n",
      "Model                                                                          \n",
      "RandomForestClassifier      {'max_depth': 80, 'max_features': 2, 'n_estima...  \n",
      "DecisionTreeClassifier                                      {'max_depth': 85}  \n",
      "GradientBoostingClassifier        {'learning_rate': 0.1, 'n_estimators': 100}  \n",
      "LogisticRegression                                                   {'C': 1}  \n",
      "KNeighborsClassifier                                      {'n_neighbors': 10}  \n",
      "GaussianNB                                           {'var_smoothing': 1e-05}  \n",
      "\n",
      "Best Model is : \u001b[1mRandomForestClassifier\u001b[0m with the best parameters : \u001b[1m{'max_depth': 80, 'max_features': 2, 'n_estimators': 100}\u001b[0m\n"
     ]
    }
   ],
   "source": [
    "best=metrics_df.sort_values(by = ['ATR','F1_TR'], ascending=False).set_index('Model')\n",
    "print(best)\n",
    "print()\n",
    "print(f\"Best Model is : \\033[1m{best.index[0]}\\033[0m with the best parameters : \\033[1m{best.iloc[0,-1]}\\033[0m\")"
   ]
  },
  {
   "cell_type": "markdown",
   "id": "815e0a5d",
   "metadata": {},
   "source": [
    "## [10] Representing the findings in a table and sorting out the best model with parameters"
   ]
  },
  {
   "cell_type": "code",
   "execution_count": 33,
   "id": "45f71b27",
   "metadata": {},
   "outputs": [],
   "source": [
    "final = RandomForestClassifier()\n",
    "\n",
    "#final =(RandomForestClassifier+'()')\n",
    "\n",
    "final.set_params(**best.iloc[0,-1])\n",
    "final.fit(X_train, y_train)\n",
    "\n",
    "y_pred_train =final.predict(X_train)\n",
    "y_pred_test = final.predict(X_test)"
   ]
  },
  {
   "cell_type": "code",
   "execution_count": 31,
   "id": "83c7e439",
   "metadata": {},
   "outputs": [
    {
     "data": {
      "text/plain": [
       "sklearn.ensemble._forest.RandomForestClassifier"
      ]
     },
     "execution_count": 31,
     "metadata": {},
     "output_type": "execute_result"
    }
   ],
   "source": [
    "type(RandomForestClassifier())"
   ]
  },
  {
   "cell_type": "markdown",
   "id": "2fb57089",
   "metadata": {},
   "source": [
    "## Classification Report"
   ]
  },
  {
   "cell_type": "code",
   "execution_count": null,
   "id": "42e3b1d4",
   "metadata": {},
   "outputs": [],
   "source": [
    "# y_train.value_counts()"
   ]
  },
  {
   "cell_type": "code",
   "execution_count": null,
   "id": "17fab0bc",
   "metadata": {},
   "outputs": [],
   "source": [
    "print(classification_report(y_pred_train,y_train,target_names=['setosa','versicolor','virginica']))"
   ]
  },
  {
   "cell_type": "code",
   "execution_count": null,
   "id": "ef0ee803",
   "metadata": {},
   "outputs": [],
   "source": [
    "print(classification_report(y_pred_test,y_test,target_names=['setosa','versicolor','virginica']))"
   ]
  },
  {
   "cell_type": "markdown",
   "id": "f60bb96e",
   "metadata": {},
   "source": [
    "## Confusion Matrix"
   ]
  },
  {
   "cell_type": "code",
   "execution_count": null,
   "id": "810dae22",
   "metadata": {},
   "outputs": [],
   "source": [
    "c= confusion_matrix(y_pred_train, y_train)\n",
    "sns.heatmap(c, annot=True)"
   ]
  },
  {
   "cell_type": "code",
   "execution_count": null,
   "id": "ad313cc0",
   "metadata": {},
   "outputs": [],
   "source": [
    "c= confusion_matrix(y_pred_test, y_test)\n",
    "sns.heatmap(c, annot=True)"
   ]
  },
  {
   "cell_type": "markdown",
   "id": "5654b1ac",
   "metadata": {},
   "source": [
    "## Total Run-Time"
   ]
  },
  {
   "cell_type": "code",
   "execution_count": null,
   "id": "b175875e",
   "metadata": {},
   "outputs": [],
   "source": [
    "end=datetime.now()\n",
    "total_time=end-start\n",
    "# minute=int(total_time/60)\n",
    "# second=total_time%60\n",
    "# if minute>=60:\n",
    "#     hour=int(minute/60)\n",
    "#     minute=minute%60\n",
    "#     print('Total execution time is : {}'.format(total_time))\n",
    "#     print(f\"Which translates to: {hour} hours {minute} minutes and {second:.3f} seconds.\")\n",
    "# else:\n",
    "print('Total execution time is : {}'.format(total_time))\n",
    "print(f\"Which translates to: {minute} minutes and {second:.3f} seconds.\")"
   ]
  },
  {
   "cell_type": "markdown",
   "id": "8e1c713c",
   "metadata": {},
   "source": [
    "## Conclusions and Findings"
   ]
  },
  {
   "cell_type": "markdown",
   "id": "30333597",
   "metadata": {},
   "source": [
    "1) The evaluation results show that the 'RandomForestClassifier': {'max_depth': 80, 'max_features': 2, 'n_estimators': 100} gives the best result for the given data set."
   ]
  }
 ],
 "metadata": {
  "kernelspec": {
   "display_name": "Python 3 (ipykernel)",
   "language": "python",
   "name": "python3"
  },
  "language_info": {
   "codemirror_mode": {
    "name": "ipython",
    "version": 3
   },
   "file_extension": ".py",
   "mimetype": "text/x-python",
   "name": "python",
   "nbconvert_exporter": "python",
   "pygments_lexer": "ipython3",
   "version": "3.9.13"
  }
 },
 "nbformat": 4,
 "nbformat_minor": 5
}
